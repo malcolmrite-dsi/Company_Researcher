{
  "nbformat": 4,
  "nbformat_minor": 0,
  "metadata": {
    "colab": {
      "name": "Web Scraping Articles",
      "provenance": [],
      "toc_visible": true,
      "mount_file_id": "1i8mVjWxGXGYQ-EDUd4QxZZZ8vNyGpZhZ",
      "authorship_tag": "ABX9TyPyHo0Ncm7I+8kizDwDO+uq",
      "include_colab_link": true
    },
    "kernelspec": {
      "name": "python3",
      "display_name": "Python 3"
    }
  },
  "cells": [
    {
      "cell_type": "markdown",
      "metadata": {
        "id": "view-in-github",
        "colab_type": "text"
      },
      "source": [
        "<a href=\"https://colab.research.google.com/github/malcolmrite-dsi/Company_Researcher/blob/main/Web_Scraping_Articles.ipynb\" target=\"_parent\"><img src=\"https://colab.research.google.com/assets/colab-badge.svg\" alt=\"Open In Colab\"/></a>"
      ]
    },
    {
      "cell_type": "markdown",
      "metadata": {
        "id": "_EwDIDOusoSt"
      },
      "source": [
        "# Importing Libraries"
      ]
    },
    {
      "cell_type": "markdown",
      "metadata": {
        "id": "SNbglCdktBaT"
      },
      "source": [
        "\n",
        "*   BeautifulSoup: Handles the actual web scraping.\n",
        "*   CSV: A python library that creates the csv file from the scraped text\n",
        "*   requests: Library that sends an HTML request to the web server."
      ]
    },
    {
      "cell_type": "code",
      "metadata": {
        "id": "7zmDuxmzq8FM"
      },
      "source": [
        "from bs4 import BeautifulSoup as bs\n",
        "import csv\n",
        "import requests"
      ],
      "execution_count": null,
      "outputs": []
    },
    {
      "cell_type": "markdown",
      "metadata": {
        "id": "E-0DMgRltGs6"
      },
      "source": [
        "# Open the CSV File "
      ]
    },
    {
      "cell_type": "markdown",
      "metadata": {
        "id": "2Aoa8iq4tMVz"
      },
      "source": [
        "Opens a new csv file and sets the headers for that file"
      ]
    },
    {
      "cell_type": "code",
      "metadata": {
        "id": "c61AqIKptc3r",
        "outputId": "69149313-f371-43bb-aeb3-58b6883d5d76",
        "colab": {
          "base_uri": "https://localhost:8080/"
        }
      },
      "source": [
        "df = open(\"drive/My Drive/moneyweb_articles.csv\",\"w\")\n",
        "csv_writer = csv.writer(df)\n",
        "csv_writer.writerow([\"Article_ID\", \"Article_Text\", \"Article_Link\"])"
      ],
      "execution_count": null,
      "outputs": [
        {
          "output_type": "execute_result",
          "data": {
            "text/plain": [
              "38"
            ]
          },
          "metadata": {
            "tags": []
          },
          "execution_count": 2
        }
      ]
    },
    {
      "cell_type": "markdown",
      "metadata": {
        "id": "gQIUDbXNt6VZ"
      },
      "source": [
        "# Send HTML Request"
      ]
    },
    {
      "cell_type": "code",
      "metadata": {
        "id": "e3jyh6_guACC"
      },
      "source": [
        "src = {}\n",
        "\n",
        "src[1] = requests.get(f\"https://www.news24.com/fin24/companies/naspers-forecasts-dip-in-earnings-due-to-reduced-contributions-from-prosus-20201116\").text\n",
        "page = bs(src[1], 'lxml')"
      ],
      "execution_count": null,
      "outputs": []
    },
    {
      "cell_type": "markdown",
      "metadata": {
        "id": "o5__bk29xQsi"
      },
      "source": [
        "Get Paragraphs\n"
      ]
    },
    {
      "cell_type": "code",
      "metadata": {
        "id": "R1UN61pwxPA0",
        "outputId": "e1cd2c22-6fbc-4952-b058-60b3ea9996bb",
        "colab": {
          "base_uri": "https://localhost:8080/"
        }
      },
      "source": [
        "all_paragraphs = page.find_all('div', class_= \"article__body\")\n",
        "for paragraph in all_paragraphs:\n",
        "  print(paragraph.text.strip())"
      ],
      "execution_count": null,
      "outputs": [
        {
          "output_type": "stream",
          "text": [
            "The Naspers Group [JSE: NPN] expects to see its core headline earnings to take a slight dip due to reduced earnings contributions from its subsidiary Prosus.The e-commerce company on Monday issued a trading update after markets closed. Naspers and Prosus both plan to release their financial results for the half-year ended 30 September 2020 next Monday.\"For the period ended 30 September 2020, the group's earnings, headline earnings and core headline earnings growth is impacted largely by reduced earnings contributions in the current year from the Prosus Group, post its listing in September 2019 and the creation of the free-float resulting in a significant non-controlling interest of the group,\" the statement read.As at 30 September 2019, the group realised 100% of Prosus' earnings, for the current period this will be 72.66%.Its core headline earnings - which it considers an \"appropriate indicator\" of the group's performance - is expected to decline by between -7.4 and -1.3% or between 28 cents and five cents per share. This was mainly driven by the creation of Prosus free float in September 2019, it said. \"Adjusted for this, core headline earnings growth per share is expected to increase in the same range as Prosus, between 23.8 and 30.5%,\" the update read.Last year, the group core earnings per share was 380 US cents.\"Like most companies, in the period we faced some challenges due to Covid-19, particularly in countries where government lockdown regulations were wide ranging and long lasting.\"However, we have seen a sharp recovery in all of our impacted businesses as our contingency plans produced results once lockdown regulations began easing,\" the statement read.The share price ended the day 1.15% weaker at R3 141.52. * Fin24 is part of Media24, a subsidiary of Naspers.\n"
          ],
          "name": "stdout"
        }
      ]
    },
    {
      "cell_type": "code",
      "metadata": {
        "id": "2WCNspjKzToc",
        "outputId": "8bbd215c-fbbe-405c-8e77-84fd1d4bc1d7",
        "colab": {
          "base_uri": "https://localhost:8080/"
        }
      },
      "source": [
        " csv_writer.writerow([\"1\", paragraph.text.strip(), \"https://www.news24.com/fin24/companies/naspers-forecasts-dip-in-earnings-due-to-reduced-contributions-from-prosus-20201116\"])"
      ],
      "execution_count": null,
      "outputs": [
        {
          "output_type": "execute_result",
          "data": {
            "text/plain": [
              "1938"
            ]
          },
          "metadata": {
            "tags": []
          },
          "execution_count": 9
        }
      ]
    },
    {
      "cell_type": "code",
      "metadata": {
        "id": "3iJBi1SjzonC"
      },
      "source": [
        "src = {}\n",
        "\n",
        "src[1] = requests.get(f\"https://www.news24.com/fin24/companies/prosus-to-buy-back-up-to-us5-billion-of-naspers-shares-own-stock-20201030\").text\n",
        "page2 = bs(src[1], 'lxml')"
      ],
      "execution_count": null,
      "outputs": []
    },
    {
      "cell_type": "code",
      "metadata": {
        "id": "J0piFG9y0hKL",
        "outputId": "c13549a3-f303-4303-d854-dac51b4fd1d8",
        "colab": {
          "base_uri": "https://localhost:8080/"
        }
      },
      "source": [
        "all_paragraphs2 = page2.find_all('div', class_= \"article__body\")\n",
        "for paragraph in all_paragraphs2:\n",
        "  print(paragraph.text.strip())\n",
        "  csv_writer.writerow([\"2\", paragraph.text.strip(), \"https://www.news24.com/fin24/companies/prosus-to-buy-back-up-to-us5-billion-of-naspers-shares-own-stock-20201030\"])"
      ],
      "execution_count": null,
      "outputs": [
        {
          "output_type": "stream",
          "text": [
            "The board of Prosus intends to acquire up to US$5 billion in total of Naspers and Prosus shares on the open market.The global consumer internet company intends to launch the purchase following the release of its results for the six-months ended 30 September 2020.The group sits on growth cash of about $10 billion and net cash of about $4 billion.The board of Prosus announced on Friday that it intends to acquire up to US$5 billion in total of Naspers and Prosus shares on the open market on a pro-rata (72.5%/27.5%) basis.Through Prosus, global consumer internet company Naspers operates and invests globally in markets with long-term growth potential.Prosus intends to launch the purchase following the release of its results for the six months ended 30 September 2020, expected to be on 23 November 2020. There will be a share repurchase consisting of an on-market Prosus ordinary share N repurchase programme of up to US$1.37 billion from its free-float shareholders, and an on-market Naspers N ordinary share purchase programme of up to US$3.63 billion.The group sits on growth cash of about $10 billion and net cash of about $4 billion. The purchases will be funded from these cash resources.Prosus intends not to vote the Naspers shares acquired. It is expected that the Naspers shares acquired will be held in treasury and will, therefore, be excluded from Naspers per share financial metrics.Buying its own shares could be seen as a smart way to make the cash \"work\" for shareholders and does not mean the group is changing its strategy of investing in new internet companies and continuing with growth and value creation.According to a statement issued by the group, the acquisition of the shares is a further step \"to crystallise value\" for shareholders and follows earlier actions such as the unbundling of MultiChoice Group and the listing of Prosus on Euronext Amsterdam last year.The purchase of the shares also represents \"a meaningful investment in the group's strong internet portfolio\", according to the company, and it regards it as \"a good use of capital\" in the context of full market valuations evident in consumer internet mergers and acquisitions and the group's sizeable consolidated discount to net-asset-value (NAV)\".The impact of the global coronavirus pandemic has pushed internet valuations up, leading to more circumspection regarding potential returns on investments.  Basil Sgourdos, chief financial officer of Prosus and Naspers, said in a statement that, over the years, the group has achieved improved financial flexibility and built a portfolio of ecommerce assets with significant cash-flow generating capabilities. That means the group is now in a position to both invest in its asset portfolio, and to purchase its own stock when it makes sense from a returns perspective.Bob van Dijk, CEO of Prosus and Naspers, says the group has found several large M&A opportunities in its sector to be fully priced and \"have stayed disciplined\".\"Utilising cash to own more of our current portfolio through a purchase of our own shares - when the discount to NAV is sizeable - is a sensible use of capital,\" commented Van Dijk.\"Management and the Naspers and Prosus boards are committed to delivering long-term returns for shareholders. We will also continue working on a series of initiatives to further address the consolidated discount to net asset value.\"* Fin24 is part of Media24, a subsidiary of Naspers.\n"
          ],
          "name": "stdout"
        }
      ]
    },
    {
      "cell_type": "markdown",
      "metadata": {
        "id": "nKxovnc11uoC"
      },
      "source": [
        "# Wrap Up"
      ]
    },
    {
      "cell_type": "code",
      "metadata": {
        "id": "Z3vIqerR11A3"
      },
      "source": [
        "df.close()"
      ],
      "execution_count": null,
      "outputs": []
    }
  ]
}